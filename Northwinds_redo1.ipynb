{
 "cells": [
  {
   "cell_type": "markdown",
   "metadata": {},
   "source": [
    "# Business Analysis for Northwinds Shipping Co.\n",
    "\n",
    "This is a mock business analysis for Northwinds Shipping Co. The project highlights knowledge of sqlite in Python and knowledge of hypothesis testing to uncover statistically significant differences in business operations.\n",
    "\n",
    "### Business Questions to answer\n",
    "- Does discount amount have a statistically significant effect on the quantity of a product in an order? If so, at what level(s) of discount?"
   ]
  },
  {
   "cell_type": "code",
   "execution_count": 1,
   "metadata": {},
   "outputs": [],
   "source": [
    "import pandas as pd\n",
    "import numpy as np\n",
    "from numpy import std, mean, sqrt\n",
    "import seaborn as sns\n",
    "import matplotlib.pyplot as plt\n",
    "%matplotlib inline\n",
    "\n",
    "import sqlite3\n",
    "from sqlite3 import Error\n",
    "import itertools\n",
    "\n",
    "from scipy.stats import chi2_contingency\n",
    "import statsmodels.api as sm\n",
    "from statsmodels.formula.api import ols\n",
    "import scipy.stats as stats\n",
    "from statsmodels.stats.power import TTestIndPower, TTestPower\n",
    "\n",
    "#File with functions written for the project\n",
    "from ProjectFunctions import get_sample, get_sample_mean, cohens_d\n",
    "from datetime import datetime\n",
    "\n",
    "import warnings\n",
    "warnings.filterwarnings(\"ignore\")"
   ]
  },
  {
   "cell_type": "code",
   "execution_count": 2,
   "metadata": {},
   "outputs": [],
   "source": [
    "conn = sqlite3.Connection('Northwind_small.sqlite')\n",
    "cur = conn.cursor()"
   ]
  },
  {
   "cell_type": "code",
   "execution_count": 3,
   "metadata": {},
   "outputs": [],
   "source": [
    "table_names = pd.read_sql('SELECT name FROM sqlite_master WHERE type=\"table\"', conn)\n",
    "table_names = table_names.drop([5,8,9], axis=0)\n",
    "\n",
    "tn_list = table_names.name\n",
    "select_template = 'SELECT * FROM {name}'\n",
    "fd = {}\n",
    "for tn in tn_list:\n",
    "    query = select_template.format(name = tn)\n",
    "    fd[tn] = pd.read_sql(query, conn)\n",
    "    \n",
    "fd[\"Order\"] = pd.read_sql('''SELECT * FROM \"Order\"''', conn)"
   ]
  },
  {
   "cell_type": "code",
   "execution_count": 4,
   "metadata": {},
   "outputs": [],
   "source": [
    "#Making a df for each of the tables generated from the SQL tables\n",
    "\n",
    "Ordr = pd.DataFrame(fd[\"Order\"])\n",
    "Employee = pd.DataFrame(fd[\"Employee\"])\n",
    "Category = pd.DataFrame(fd[\"Category\"])\n",
    "Customer = pd.DataFrame(fd[\"Customer\"])\n",
    "Shipper = pd.DataFrame(fd[\"Shipper\"])\n",
    "Supplier = pd.DataFrame(fd[\"Supplier\"])\n",
    "Product = pd.DataFrame(fd[\"Product\"])\n",
    "OrderDetail = pd.DataFrame(fd[\"OrderDetail\"])\n",
    "Region = pd.DataFrame(fd[\"Region\"])\n",
    "Territory = pd.DataFrame(fd[\"Territory\"])\n",
    "EmployeeTerritory = pd.DataFrame(fd[\"EmployeeTerritory\"])"
   ]
  },
  {
   "cell_type": "markdown",
   "metadata": {},
   "source": [
    "### EDA"
   ]
  },
  {
   "cell_type": "markdown",
   "metadata": {},
   "source": [
    "![title](Northwind_ERD_updated.png)"
   ]
  },
  {
   "cell_type": "code",
   "execution_count": 5,
   "metadata": {},
   "outputs": [
    {
     "name": "stdout",
     "output_type": "stream",
     "text": [
      "      Id CustomerId  EmployeeId   OrderDate RequiredDate ShippedDate  ShipVia  \\\n",
      "0  10248      VINET           5  2012-07-04   2012-08-01  2012-07-16        3   \n",
      "1  10249      TOMSP           6  2012-07-05   2012-08-16  2012-07-10        1   \n",
      "2  10250      HANAR           4  2012-07-08   2012-08-05  2012-07-12        2   \n",
      "3  10251      VICTE           3  2012-07-08   2012-08-05  2012-07-15        1   \n",
      "4  10252      SUPRD           4  2012-07-09   2012-08-06  2012-07-11        2   \n",
      "\n",
      "   Freight                   ShipName           ShipAddress        ShipCity  \\\n",
      "0    32.38  Vins et alcools Chevalier    59 rue de l'Abbaye           Reims   \n",
      "1    11.61         Toms Spezialitäten         Luisenstr. 48         Münster   \n",
      "2    65.83              Hanari Carnes       Rua do Paço, 67  Rio de Janeiro   \n",
      "3    41.34       Victuailles en stock    2, rue du Commerce            Lyon   \n",
      "4    51.30           Suprêmes délices  Boulevard Tirou, 255       Charleroi   \n",
      "\n",
      "       ShipRegion ShipPostalCode ShipCountry  \n",
      "0  Western Europe          51100      France  \n",
      "1  Western Europe          44087     Germany  \n",
      "2   South America      05454-876      Brazil  \n",
      "3  Western Europe          69004      France  \n",
      "4  Western Europe         B-6000     Belgium  \n",
      "   Id   LastName FirstName                  Title TitleOfCourtesy   BirthDate  \\\n",
      "0   1    Davolio     Nancy   Sales Representative             Ms.  1980-12-08   \n",
      "1   2     Fuller    Andrew  Vice President, Sales             Dr.  1984-02-19   \n",
      "2   3  Leverling     Janet   Sales Representative             Ms.  1995-08-30   \n",
      "3   4    Peacock  Margaret   Sales Representative            Mrs.  1969-09-19   \n",
      "4   5   Buchanan    Steven          Sales Manager             Mr.  1987-03-04   \n",
      "\n",
      "     HireDate                     Address      City         Region PostalCode  \\\n",
      "0  2024-05-01  507 - 20th Ave. E. Apt. 2A   Seattle  North America      98122   \n",
      "1  2024-08-14          908 W. Capital Way    Tacoma  North America      98401   \n",
      "2  2024-04-01          722 Moss Bay Blvd.  Kirkland  North America      98033   \n",
      "3  2025-05-03        4110 Old Redmond Rd.   Redmond  North America      98052   \n",
      "4  2025-10-17             14 Garrett Hill    London  British Isles    SW1 8JR   \n",
      "\n",
      "  Country       HomePhone Extension Photo  \\\n",
      "0     USA  (206) 555-9857      5467  None   \n",
      "1     USA  (206) 555-9482      3457  None   \n",
      "2     USA  (206) 555-3412      3355  None   \n",
      "3     USA  (206) 555-8122      5176  None   \n",
      "4      UK   (71) 555-4848      3453  None   \n",
      "\n",
      "                                               Notes  ReportsTo  \\\n",
      "0  Education includes a BA in psychology from Col...        2.0   \n",
      "1  Andrew received his BTS commercial in 1974 and...        NaN   \n",
      "2  Janet has a BS degree in chemistry from Boston...        2.0   \n",
      "3  Margaret holds a BA in English literature from...        2.0   \n",
      "4  Steven Buchanan graduated from St. Andrews Uni...        2.0   \n",
      "\n",
      "                                PhotoPath  \n",
      "0    http://accweb/emmployees/davolio.bmp  \n",
      "1     http://accweb/emmployees/fuller.bmp  \n",
      "2  http://accweb/emmployees/leverling.bmp  \n",
      "3    http://accweb/emmployees/peacock.bmp  \n",
      "4   http://accweb/emmployees/buchanan.bmp  \n",
      "   Id    CategoryName                                        Description\n",
      "0   1       Beverages        Soft drinks, coffees, teas, beers, and ales\n",
      "1   2      Condiments  Sweet and savory sauces, relishes, spreads, an...\n",
      "2   3     Confections                Desserts, candies, and sweet breads\n",
      "3   4  Dairy Products                                            Cheeses\n",
      "4   5  Grains/Cereals                Breads, crackers, pasta, and cereal\n",
      "      Id                         CompanyName         ContactName  \\\n",
      "0  ALFKI                 Alfreds Futterkiste        Maria Anders   \n",
      "1  ANATR  Ana Trujillo Emparedados y helados        Ana Trujillo   \n",
      "2  ANTON             Antonio Moreno Taquería      Antonio Moreno   \n",
      "3  AROUT                     Around the Horn        Thomas Hardy   \n",
      "4  BERGS                  Berglunds snabbköp  Christina Berglund   \n",
      "\n",
      "           ContactTitle                        Address         City  \\\n",
      "0  Sales Representative                  Obere Str. 57       Berlin   \n",
      "1                 Owner  Avda. de la Constitución 2222  México D.F.   \n",
      "2                 Owner                Mataderos  2312  México D.F.   \n",
      "3  Sales Representative                120 Hanover Sq.       London   \n",
      "4   Order Administrator                Berguvsvägen  8        Luleå   \n",
      "\n",
      "            Region PostalCode  Country           Phone             Fax  \n",
      "0   Western Europe      12209  Germany     030-0074321     030-0076545  \n",
      "1  Central America      05021   Mexico    (5) 555-4729    (5) 555-3745  \n",
      "2  Central America      05023   Mexico    (5) 555-3932            None  \n",
      "3    British Isles    WA1 1DP       UK  (171) 555-7788  (171) 555-6750  \n",
      "4  Northern Europe   S-958 22   Sweden   0921-12 34 65   0921-12 34 67  \n",
      "   Id       CompanyName           Phone\n",
      "0   1    Speedy Express  (503) 555-9831\n",
      "1   2    United Package  (503) 555-3199\n",
      "2   3  Federal Shipping  (503) 555-9931\n",
      "   Id                         CompanyName                 ContactName  \\\n",
      "0   1                      Exotic Liquids            Charlotte Cooper   \n",
      "1   2          New Orleans Cajun Delights               Shelley Burke   \n",
      "2   3           Grandma Kelly's Homestead               Regina Murphy   \n",
      "3   4                       Tokyo Traders                Yoshi Nagase   \n",
      "4   5  Cooperativa de Quesos 'Las Cabras'  Antonio del Valle Saavedra   \n",
      "\n",
      "           ContactTitle                    Address         City  \\\n",
      "0    Purchasing Manager             49 Gilbert St.       London   \n",
      "1   Order Administrator             P.O. Box 78934  New Orleans   \n",
      "2  Sales Representative             707 Oxford Rd.    Ann Arbor   \n",
      "3     Marketing Manager  9-8 Sekimai Musashino-shi        Tokyo   \n",
      "4  Export Administrator          Calle del Rosal 4       Oviedo   \n",
      "\n",
      "            Region PostalCode Country           Phone             Fax  \\\n",
      "0    British Isles    EC1 4SD      UK  (171) 555-2222            None   \n",
      "1    North America      70117     USA  (100) 555-4822            None   \n",
      "2    North America      48104     USA  (313) 555-5735  (313) 555-3349   \n",
      "3     Eastern Asia        100   Japan  (03) 3555-5011            None   \n",
      "4  Southern Europe      33007   Spain  (98) 598 76 54            None   \n",
      "\n",
      "      HomePage  \n",
      "0         None  \n",
      "1  #CAJUN.HTM#  \n",
      "2         None  \n",
      "3         None  \n",
      "4         None  \n",
      "   Id                   ProductName  SupplierId  CategoryId  \\\n",
      "0   1                          Chai           1           1   \n",
      "1   2                         Chang           1           1   \n",
      "2   3                 Aniseed Syrup           1           2   \n",
      "3   4  Chef Anton's Cajun Seasoning           2           2   \n",
      "4   5        Chef Anton's Gumbo Mix           2           2   \n",
      "\n",
      "       QuantityPerUnit  UnitPrice  UnitsInStock  UnitsOnOrder  ReorderLevel  \\\n",
      "0   10 boxes x 20 bags      18.00            39             0            10   \n",
      "1   24 - 12 oz bottles      19.00            17            40            25   \n",
      "2  12 - 550 ml bottles      10.00            13            70            25   \n",
      "3       48 - 6 oz jars      22.00            53             0             0   \n",
      "4             36 boxes      21.35             0             0             0   \n",
      "\n",
      "   Discontinued  \n",
      "0             0  \n",
      "1             0  \n",
      "2             0  \n",
      "3             0  \n",
      "4             1  \n",
      "         Id  OrderId  ProductId  UnitPrice  Quantity  Discount\n",
      "0  10248/11    10248         11       14.0        12       0.0\n",
      "1  10248/42    10248         42        9.8        10       0.0\n",
      "2  10248/72    10248         72       34.8         5       0.0\n",
      "3  10249/14    10249         14       18.6         9       0.0\n",
      "4  10249/51    10249         51       42.4        40       0.0\n",
      "   Id RegionDescription\n",
      "0   1           Eastern\n",
      "1   2           Western\n",
      "2   3          Northern\n",
      "3   4          Southern\n",
      "      Id TerritoryDescription  RegionId\n",
      "0  01581             Westboro         1\n",
      "1  01730              Bedford         1\n",
      "2  01833            Georgetow         1\n",
      "3  02116               Boston         1\n",
      "4  02139            Cambridge         1\n",
      "        Id  EmployeeId TerritoryId\n",
      "0  1/06897           1       06897\n",
      "1  1/19713           1       19713\n",
      "2  2/01581           2       01581\n",
      "3  2/01730           2       01730\n",
      "4  2/01833           2       01833\n"
     ]
    }
   ],
   "source": [
    "#While the above was provided by the company, this code provides heads of all tables\n",
    "tables = [Ordr, Employee, Category, Customer, Shipper, Supplier, Product, \n",
    "          OrderDetail, Region, Territory, EmployeeTerritory]\n",
    "for i in tables:\n",
    "    print(i.head())"
   ]
  },
  {
   "cell_type": "code",
   "execution_count": 6,
   "metadata": {},
   "outputs": [
    {
     "data": {
      "text/html": [
       "<div>\n",
       "<style scoped>\n",
       "    .dataframe tbody tr th:only-of-type {\n",
       "        vertical-align: middle;\n",
       "    }\n",
       "\n",
       "    .dataframe tbody tr th {\n",
       "        vertical-align: top;\n",
       "    }\n",
       "\n",
       "    .dataframe thead th {\n",
       "        text-align: right;\n",
       "    }\n",
       "</style>\n",
       "<table border=\"1\" class=\"dataframe\">\n",
       "  <thead>\n",
       "    <tr style=\"text-align: right;\">\n",
       "      <th></th>\n",
       "      <th>Id</th>\n",
       "      <th>OrderId</th>\n",
       "      <th>ProductId</th>\n",
       "      <th>UnitPrice</th>\n",
       "      <th>Quantity</th>\n",
       "      <th>Discount</th>\n",
       "    </tr>\n",
       "  </thead>\n",
       "  <tbody>\n",
       "    <tr>\n",
       "      <td>0</td>\n",
       "      <td>10248/11</td>\n",
       "      <td>10248</td>\n",
       "      <td>11</td>\n",
       "      <td>14.0</td>\n",
       "      <td>12</td>\n",
       "      <td>0.0</td>\n",
       "    </tr>\n",
       "    <tr>\n",
       "      <td>1</td>\n",
       "      <td>10248/42</td>\n",
       "      <td>10248</td>\n",
       "      <td>42</td>\n",
       "      <td>9.8</td>\n",
       "      <td>10</td>\n",
       "      <td>0.0</td>\n",
       "    </tr>\n",
       "    <tr>\n",
       "      <td>2</td>\n",
       "      <td>10248/72</td>\n",
       "      <td>10248</td>\n",
       "      <td>72</td>\n",
       "      <td>34.8</td>\n",
       "      <td>5</td>\n",
       "      <td>0.0</td>\n",
       "    </tr>\n",
       "    <tr>\n",
       "      <td>3</td>\n",
       "      <td>10249/14</td>\n",
       "      <td>10249</td>\n",
       "      <td>14</td>\n",
       "      <td>18.6</td>\n",
       "      <td>9</td>\n",
       "      <td>0.0</td>\n",
       "    </tr>\n",
       "    <tr>\n",
       "      <td>4</td>\n",
       "      <td>10249/51</td>\n",
       "      <td>10249</td>\n",
       "      <td>51</td>\n",
       "      <td>42.4</td>\n",
       "      <td>40</td>\n",
       "      <td>0.0</td>\n",
       "    </tr>\n",
       "  </tbody>\n",
       "</table>\n",
       "</div>"
      ],
      "text/plain": [
       "         Id  OrderId  ProductId  UnitPrice  Quantity  Discount\n",
       "0  10248/11    10248         11       14.0        12       0.0\n",
       "1  10248/42    10248         42        9.8        10       0.0\n",
       "2  10248/72    10248         72       34.8         5       0.0\n",
       "3  10249/14    10249         14       18.6         9       0.0\n",
       "4  10249/51    10249         51       42.4        40       0.0"
      ]
     },
     "execution_count": 6,
     "metadata": {},
     "output_type": "execute_result"
    }
   ],
   "source": [
    "OrderDetail.head()"
   ]
  },
  {
   "cell_type": "code",
   "execution_count": 7,
   "metadata": {},
   "outputs": [
    {
     "name": "stdout",
     "output_type": "stream",
     "text": [
      "<class 'pandas.core.frame.DataFrame'>\n",
      "RangeIndex: 2155 entries, 0 to 2154\n",
      "Data columns (total 6 columns):\n",
      "Id           2155 non-null object\n",
      "OrderId      2155 non-null int64\n",
      "ProductId    2155 non-null int64\n",
      "UnitPrice    2155 non-null float64\n",
      "Quantity     2155 non-null int64\n",
      "Discount     2155 non-null float64\n",
      "dtypes: float64(2), int64(3), object(1)\n",
      "memory usage: 101.1+ KB\n"
     ]
    }
   ],
   "source": [
    "OrderDetail.info()"
   ]
  },
  {
   "cell_type": "code",
   "execution_count": 8,
   "metadata": {},
   "outputs": [
    {
     "name": "stdout",
     "output_type": "stream",
     "text": [
      "Id 2155\n",
      "OrderId 830\n",
      "ProductId 77\n",
      "UnitPrice 116\n",
      "Quantity 55\n",
      "Discount 11\n"
     ]
    }
   ],
   "source": [
    "for i in OrderDetail.columns:\n",
    "    print(i, len(set(OrderDetail[i])))"
   ]
  },
  {
   "cell_type": "code",
   "execution_count": 9,
   "metadata": {},
   "outputs": [
    {
     "data": {
      "text/plain": [
       "0.00    1317\n",
       "0.05     185\n",
       "0.10     173\n",
       "0.20     161\n",
       "0.15     157\n",
       "0.25     154\n",
       "0.03       3\n",
       "0.02       2\n",
       "0.01       1\n",
       "0.04       1\n",
       "0.06       1\n",
       "Name: Discount, dtype: int64"
      ]
     },
     "execution_count": 9,
     "metadata": {},
     "output_type": "execute_result"
    }
   ],
   "source": [
    "OrderDetail['Discount'].value_counts()"
   ]
  },
  {
   "cell_type": "code",
   "execution_count": 10,
   "metadata": {},
   "outputs": [
    {
     "data": {
      "text/plain": [
       "0.00    1317\n",
       "0.05     185\n",
       "0.10     173\n",
       "0.20     161\n",
       "0.15     157\n",
       "0.25     154\n",
       "Name: Discount, dtype: int64"
      ]
     },
     "execution_count": 10,
     "metadata": {},
     "output_type": "execute_result"
    }
   ],
   "source": [
    "OrderDetail = OrderDetail[(OrderDetail['Discount'] != 0.06) & (OrderDetail['Discount'] != 0.03) & (OrderDetail['Discount'] != 0.02) & (OrderDetail['Discount'] != 0.01) & (OrderDetail['Discount'] != 0.04)]\n",
    "OrderDetail.Discount.value_counts()"
   ]
  },
  {
   "cell_type": "code",
   "execution_count": 11,
   "metadata": {},
   "outputs": [
    {
     "data": {
      "text/html": [
       "<div>\n",
       "<style scoped>\n",
       "    .dataframe tbody tr th:only-of-type {\n",
       "        vertical-align: middle;\n",
       "    }\n",
       "\n",
       "    .dataframe tbody tr th {\n",
       "        vertical-align: top;\n",
       "    }\n",
       "\n",
       "    .dataframe thead th {\n",
       "        text-align: right;\n",
       "    }\n",
       "</style>\n",
       "<table border=\"1\" class=\"dataframe\">\n",
       "  <thead>\n",
       "    <tr style=\"text-align: right;\">\n",
       "      <th></th>\n",
       "      <th>OrderId</th>\n",
       "      <th>ProductId</th>\n",
       "      <th>UnitPrice</th>\n",
       "      <th>Quantity</th>\n",
       "      <th>Discount</th>\n",
       "      <th>CategoryName</th>\n",
       "    </tr>\n",
       "  </thead>\n",
       "  <tbody>\n",
       "    <tr>\n",
       "      <td>0</td>\n",
       "      <td>10248</td>\n",
       "      <td>11</td>\n",
       "      <td>14.00</td>\n",
       "      <td>12</td>\n",
       "      <td>0.0</td>\n",
       "      <td>Dairy Products</td>\n",
       "    </tr>\n",
       "    <tr>\n",
       "      <td>1</td>\n",
       "      <td>10248</td>\n",
       "      <td>42</td>\n",
       "      <td>9.80</td>\n",
       "      <td>10</td>\n",
       "      <td>0.0</td>\n",
       "      <td>Grains/Cereals</td>\n",
       "    </tr>\n",
       "    <tr>\n",
       "      <td>2</td>\n",
       "      <td>10248</td>\n",
       "      <td>72</td>\n",
       "      <td>34.80</td>\n",
       "      <td>5</td>\n",
       "      <td>0.0</td>\n",
       "      <td>Dairy Products</td>\n",
       "    </tr>\n",
       "    <tr>\n",
       "      <td>3</td>\n",
       "      <td>10249</td>\n",
       "      <td>14</td>\n",
       "      <td>18.60</td>\n",
       "      <td>9</td>\n",
       "      <td>0.0</td>\n",
       "      <td>Produce</td>\n",
       "    </tr>\n",
       "    <tr>\n",
       "      <td>4</td>\n",
       "      <td>10249</td>\n",
       "      <td>51</td>\n",
       "      <td>42.40</td>\n",
       "      <td>40</td>\n",
       "      <td>0.0</td>\n",
       "      <td>Produce</td>\n",
       "    </tr>\n",
       "    <tr>\n",
       "      <td>...</td>\n",
       "      <td>...</td>\n",
       "      <td>...</td>\n",
       "      <td>...</td>\n",
       "      <td>...</td>\n",
       "      <td>...</td>\n",
       "      <td>...</td>\n",
       "    </tr>\n",
       "    <tr>\n",
       "      <td>2142</td>\n",
       "      <td>11077</td>\n",
       "      <td>52</td>\n",
       "      <td>7.00</td>\n",
       "      <td>2</td>\n",
       "      <td>0.0</td>\n",
       "      <td>Grains/Cereals</td>\n",
       "    </tr>\n",
       "    <tr>\n",
       "      <td>2143</td>\n",
       "      <td>11077</td>\n",
       "      <td>55</td>\n",
       "      <td>24.00</td>\n",
       "      <td>2</td>\n",
       "      <td>0.0</td>\n",
       "      <td>Meat/Poultry</td>\n",
       "    </tr>\n",
       "    <tr>\n",
       "      <td>2144</td>\n",
       "      <td>11077</td>\n",
       "      <td>66</td>\n",
       "      <td>17.00</td>\n",
       "      <td>1</td>\n",
       "      <td>0.0</td>\n",
       "      <td>Condiments</td>\n",
       "    </tr>\n",
       "    <tr>\n",
       "      <td>2145</td>\n",
       "      <td>11077</td>\n",
       "      <td>75</td>\n",
       "      <td>7.75</td>\n",
       "      <td>4</td>\n",
       "      <td>0.0</td>\n",
       "      <td>Beverages</td>\n",
       "    </tr>\n",
       "    <tr>\n",
       "      <td>2146</td>\n",
       "      <td>11077</td>\n",
       "      <td>77</td>\n",
       "      <td>13.00</td>\n",
       "      <td>2</td>\n",
       "      <td>0.0</td>\n",
       "      <td>Condiments</td>\n",
       "    </tr>\n",
       "  </tbody>\n",
       "</table>\n",
       "<p>2147 rows × 6 columns</p>\n",
       "</div>"
      ],
      "text/plain": [
       "      OrderId  ProductId  UnitPrice  Quantity  Discount    CategoryName\n",
       "0       10248         11      14.00        12       0.0  Dairy Products\n",
       "1       10248         42       9.80        10       0.0  Grains/Cereals\n",
       "2       10248         72      34.80         5       0.0  Dairy Products\n",
       "3       10249         14      18.60         9       0.0         Produce\n",
       "4       10249         51      42.40        40       0.0         Produce\n",
       "...       ...        ...        ...       ...       ...             ...\n",
       "2142    11077         52       7.00         2       0.0  Grains/Cereals\n",
       "2143    11077         55      24.00         2       0.0    Meat/Poultry\n",
       "2144    11077         66      17.00         1       0.0      Condiments\n",
       "2145    11077         75       7.75         4       0.0       Beverages\n",
       "2146    11077         77      13.00         2       0.0      Condiments\n",
       "\n",
       "[2147 rows x 6 columns]"
      ]
     },
     "execution_count": 11,
     "metadata": {},
     "output_type": "execute_result"
    }
   ],
   "source": [
    "conn = sqlite3.Connection('Northwind_small.sqlite')\n",
    "\n",
    "od_query = pd.read_sql('''SELECT a.OrderId, a.ProductId, a.UnitPrice, a.Quantity, a.Discount, c.CategoryName \n",
    "                          FROM OrderDetail a LEFT JOIN Product b ON a.ProductId = b.ID LEFT JOIN Category c ON b.CategoryId = c.ID\n",
    "                          WHERE (a.Discount != 0.01 AND a.Discount != 0.02 AND a.Discount != 0.03 AND a.Discount != 0.04 \n",
    "                          AND a.Discount != 0.06)''', conn)\n",
    "\n",
    "df = pd.DataFrame(od_query)\n",
    "df"
   ]
  },
  {
   "cell_type": "code",
   "execution_count": 12,
   "metadata": {},
   "outputs": [
    {
     "name": "stdout",
     "output_type": "stream",
     "text": [
      "                    sum_sq      df         F        PR(>F)\n",
      "C(Discount)   17348.854662     5.0  9.798709  2.840681e-09\n",
      "Residual     758138.565924  2141.0       NaN           NaN\n"
     ]
    }
   ],
   "source": [
    "#run ANOVA on discount vs quantity sold\n",
    "formula = 'Quantity ~ C(Discount)'\n",
    "lm = ols(formula, df).fit()\n",
    "table = sm.stats.anova_lm(lm, typ=2)\n",
    "print(table)"
   ]
  },
  {
   "cell_type": "code",
   "execution_count": 13,
   "metadata": {},
   "outputs": [
    {
     "data": {
      "text/plain": [
       "0.429"
      ]
     },
     "execution_count": 13,
     "metadata": {},
     "output_type": "execute_result"
    }
   ],
   "source": [
    "def quant_in(pm, disc):\n",
    "    x = pm - disc\n",
    "    pm2 = disc / x\n",
    "    return round(pm2,3)\n",
    "\n",
    "quant_in(0.2, 0.06)"
   ]
  },
  {
   "cell_type": "code",
   "execution_count": null,
   "metadata": {},
   "outputs": [],
   "source": []
  },
  {
   "cell_type": "code",
   "execution_count": 14,
   "metadata": {},
   "outputs": [
    {
     "data": {
      "text/html": [
       "<div>\n",
       "<style scoped>\n",
       "    .dataframe tbody tr th:only-of-type {\n",
       "        vertical-align: middle;\n",
       "    }\n",
       "\n",
       "    .dataframe tbody tr th {\n",
       "        vertical-align: top;\n",
       "    }\n",
       "\n",
       "    .dataframe thead th {\n",
       "        text-align: right;\n",
       "    }\n",
       "</style>\n",
       "<table border=\"1\" class=\"dataframe\">\n",
       "  <thead>\n",
       "    <tr style=\"text-align: right;\">\n",
       "      <th>Discount</th>\n",
       "      <th>0.00</th>\n",
       "      <th>0.05</th>\n",
       "      <th>0.10</th>\n",
       "      <th>0.15</th>\n",
       "      <th>0.20</th>\n",
       "      <th>0.25</th>\n",
       "    </tr>\n",
       "    <tr>\n",
       "      <th>CategoryName</th>\n",
       "      <th></th>\n",
       "      <th></th>\n",
       "      <th></th>\n",
       "      <th></th>\n",
       "      <th></th>\n",
       "      <th></th>\n",
       "    </tr>\n",
       "  </thead>\n",
       "  <tbody>\n",
       "    <tr>\n",
       "      <td>Beverages</td>\n",
       "      <td>246</td>\n",
       "      <td>26</td>\n",
       "      <td>25</td>\n",
       "      <td>36</td>\n",
       "      <td>39</td>\n",
       "      <td>32</td>\n",
       "    </tr>\n",
       "    <tr>\n",
       "      <td>Condiments</td>\n",
       "      <td>131</td>\n",
       "      <td>19</td>\n",
       "      <td>23</td>\n",
       "      <td>17</td>\n",
       "      <td>14</td>\n",
       "      <td>11</td>\n",
       "    </tr>\n",
       "    <tr>\n",
       "      <td>Confections</td>\n",
       "      <td>200</td>\n",
       "      <td>29</td>\n",
       "      <td>30</td>\n",
       "      <td>29</td>\n",
       "      <td>17</td>\n",
       "      <td>27</td>\n",
       "    </tr>\n",
       "    <tr>\n",
       "      <td>Dairy Products</td>\n",
       "      <td>224</td>\n",
       "      <td>40</td>\n",
       "      <td>25</td>\n",
       "      <td>26</td>\n",
       "      <td>28</td>\n",
       "      <td>22</td>\n",
       "    </tr>\n",
       "    <tr>\n",
       "      <td>Grains/Cereals</td>\n",
       "      <td>133</td>\n",
       "      <td>17</td>\n",
       "      <td>10</td>\n",
       "      <td>10</td>\n",
       "      <td>15</td>\n",
       "      <td>10</td>\n",
       "    </tr>\n",
       "    <tr>\n",
       "      <td>Meat/Poultry</td>\n",
       "      <td>97</td>\n",
       "      <td>17</td>\n",
       "      <td>20</td>\n",
       "      <td>9</td>\n",
       "      <td>11</td>\n",
       "      <td>19</td>\n",
       "    </tr>\n",
       "    <tr>\n",
       "      <td>Produce</td>\n",
       "      <td>91</td>\n",
       "      <td>11</td>\n",
       "      <td>9</td>\n",
       "      <td>10</td>\n",
       "      <td>6</td>\n",
       "      <td>8</td>\n",
       "    </tr>\n",
       "    <tr>\n",
       "      <td>Seafood</td>\n",
       "      <td>195</td>\n",
       "      <td>26</td>\n",
       "      <td>31</td>\n",
       "      <td>20</td>\n",
       "      <td>31</td>\n",
       "      <td>25</td>\n",
       "    </tr>\n",
       "  </tbody>\n",
       "</table>\n",
       "</div>"
      ],
      "text/plain": [
       "Discount        0.00  0.05  0.10  0.15  0.20  0.25\n",
       "CategoryName                                      \n",
       "Beverages        246    26    25    36    39    32\n",
       "Condiments       131    19    23    17    14    11\n",
       "Confections      200    29    30    29    17    27\n",
       "Dairy Products   224    40    25    26    28    22\n",
       "Grains/Cereals   133    17    10    10    15    10\n",
       "Meat/Poultry      97    17    20     9    11    19\n",
       "Produce           91    11     9    10     6     8\n",
       "Seafood          195    26    31    20    31    25"
      ]
     },
     "execution_count": 14,
     "metadata": {},
     "output_type": "execute_result"
    }
   ],
   "source": [
    "pd.crosstab(df['CategoryName'], df['Discount'])"
   ]
  },
  {
   "cell_type": "code",
   "execution_count": 15,
   "metadata": {},
   "outputs": [
    {
     "data": {
      "text/html": [
       "<div>\n",
       "<style scoped>\n",
       "    .dataframe tbody tr th:only-of-type {\n",
       "        vertical-align: middle;\n",
       "    }\n",
       "\n",
       "    .dataframe tbody tr th {\n",
       "        vertical-align: top;\n",
       "    }\n",
       "\n",
       "    .dataframe thead th {\n",
       "        text-align: right;\n",
       "    }\n",
       "</style>\n",
       "<table border=\"1\" class=\"dataframe\">\n",
       "  <thead>\n",
       "    <tr style=\"text-align: right;\">\n",
       "      <th>Discount</th>\n",
       "      <th>0.00</th>\n",
       "      <th>0.05</th>\n",
       "      <th>0.10</th>\n",
       "      <th>0.15</th>\n",
       "      <th>0.20</th>\n",
       "      <th>0.25</th>\n",
       "    </tr>\n",
       "    <tr>\n",
       "      <th>CategoryName</th>\n",
       "      <th></th>\n",
       "      <th></th>\n",
       "      <th></th>\n",
       "      <th></th>\n",
       "      <th></th>\n",
       "      <th></th>\n",
       "    </tr>\n",
       "  </thead>\n",
       "  <tbody>\n",
       "    <tr>\n",
       "      <td>Beverages</td>\n",
       "      <td>20.796748</td>\n",
       "      <td>34.538462</td>\n",
       "      <td>29.120000</td>\n",
       "      <td>24.583333</td>\n",
       "      <td>29.230769</td>\n",
       "      <td>23.906250</td>\n",
       "    </tr>\n",
       "    <tr>\n",
       "      <td>Condiments</td>\n",
       "      <td>21.320611</td>\n",
       "      <td>37.842105</td>\n",
       "      <td>23.304348</td>\n",
       "      <td>30.529412</td>\n",
       "      <td>22.285714</td>\n",
       "      <td>38.000000</td>\n",
       "    </tr>\n",
       "    <tr>\n",
       "      <td>Confections</td>\n",
       "      <td>23.090000</td>\n",
       "      <td>27.413793</td>\n",
       "      <td>18.166667</td>\n",
       "      <td>28.206897</td>\n",
       "      <td>19.882353</td>\n",
       "      <td>29.222222</td>\n",
       "    </tr>\n",
       "    <tr>\n",
       "      <td>Dairy Products</td>\n",
       "      <td>22.165179</td>\n",
       "      <td>28.950000</td>\n",
       "      <td>25.960000</td>\n",
       "      <td>28.653846</td>\n",
       "      <td>31.714286</td>\n",
       "      <td>33.727273</td>\n",
       "    </tr>\n",
       "    <tr>\n",
       "      <td>Grains/Cereals</td>\n",
       "      <td>22.744361</td>\n",
       "      <td>21.529412</td>\n",
       "      <td>30.500000</td>\n",
       "      <td>23.200000</td>\n",
       "      <td>27.600000</td>\n",
       "      <td>21.800000</td>\n",
       "    </tr>\n",
       "    <tr>\n",
       "      <td>Meat/Poultry</td>\n",
       "      <td>20.721649</td>\n",
       "      <td>17.823529</td>\n",
       "      <td>35.200000</td>\n",
       "      <td>31.444444</td>\n",
       "      <td>21.000000</td>\n",
       "      <td>35.157895</td>\n",
       "    </tr>\n",
       "    <tr>\n",
       "      <td>Produce</td>\n",
       "      <td>20.956044</td>\n",
       "      <td>30.000000</td>\n",
       "      <td>22.222222</td>\n",
       "      <td>21.800000</td>\n",
       "      <td>21.333333</td>\n",
       "      <td>25.750000</td>\n",
       "    </tr>\n",
       "    <tr>\n",
       "      <td>Seafood</td>\n",
       "      <td>21.358974</td>\n",
       "      <td>23.576923</td>\n",
       "      <td>22.548387</td>\n",
       "      <td>37.800000</td>\n",
       "      <td>29.032258</td>\n",
       "      <td>21.720000</td>\n",
       "    </tr>\n",
       "  </tbody>\n",
       "</table>\n",
       "</div>"
      ],
      "text/plain": [
       "Discount             0.00       0.05       0.10       0.15       0.20  \\\n",
       "CategoryName                                                            \n",
       "Beverages       20.796748  34.538462  29.120000  24.583333  29.230769   \n",
       "Condiments      21.320611  37.842105  23.304348  30.529412  22.285714   \n",
       "Confections     23.090000  27.413793  18.166667  28.206897  19.882353   \n",
       "Dairy Products  22.165179  28.950000  25.960000  28.653846  31.714286   \n",
       "Grains/Cereals  22.744361  21.529412  30.500000  23.200000  27.600000   \n",
       "Meat/Poultry    20.721649  17.823529  35.200000  31.444444  21.000000   \n",
       "Produce         20.956044  30.000000  22.222222  21.800000  21.333333   \n",
       "Seafood         21.358974  23.576923  22.548387  37.800000  29.032258   \n",
       "\n",
       "Discount             0.25  \n",
       "CategoryName               \n",
       "Beverages       23.906250  \n",
       "Condiments      38.000000  \n",
       "Confections     29.222222  \n",
       "Dairy Products  33.727273  \n",
       "Grains/Cereals  21.800000  \n",
       "Meat/Poultry    35.157895  \n",
       "Produce         25.750000  \n",
       "Seafood         21.720000  "
      ]
     },
     "execution_count": 15,
     "metadata": {},
     "output_type": "execute_result"
    }
   ],
   "source": [
    "ct = pd.pivot_table(df, values='Quantity', index=['CategoryName'], columns='Discount')\n",
    "ct"
   ]
  },
  {
   "cell_type": "code",
   "execution_count": 16,
   "metadata": {
    "scrolled": true
   },
   "outputs": [
    {
     "data": {
      "text/plain": [
       "{'Condiments': [77.49, 9.3, 43.19, 4.53, 78.23],\n",
       " 'Dairy Products': [30.61, 17.12, 29.27, 43.08, 52.16],\n",
       " 'Grains/Cereals': [-5.34, 34.1, 2.0, 21.35, -4.15],\n",
       " 'Beverages': [66.08, 40.02, 18.21, 40.55, 14.95],\n",
       " 'Produce': [43.16, 6.04, 4.03, 1.8, 22.88],\n",
       " 'Confections': [18.73, -21.32, 22.16, -13.89, 26.56],\n",
       " 'Meat/Poultry': [-13.99, 69.87, 51.75, 1.34, 69.67],\n",
       " 'Seafood': [10.38, 5.57, 76.97, 35.93, 1.69]}"
      ]
     },
     "execution_count": 16,
     "metadata": {},
     "output_type": "execute_result"
    }
   ],
   "source": [
    "z = {}\n",
    "for i in list(set(df.CategoryName)):\n",
    "    x = df[df['CategoryName'] == i]\n",
    "    y = []\n",
    "    for j in [0.05, 0.10, 0.15, 0.20, 0.25]:\n",
    "        a = x[x['Discount'] == 0.00]\n",
    "        b = x[x['Discount'] == j]\n",
    "        c = round(((b.Quantity.mean() - a.Quantity.mean()) / a.Quantity.mean()) * 100,2)\n",
    "        y.append(c)\n",
    "    z[i] = y\n",
    "\n",
    "z"
   ]
  },
  {
   "cell_type": "code",
   "execution_count": 17,
   "metadata": {},
   "outputs": [
    {
     "data": {
      "text/html": [
       "<div>\n",
       "<style scoped>\n",
       "    .dataframe tbody tr th:only-of-type {\n",
       "        vertical-align: middle;\n",
       "    }\n",
       "\n",
       "    .dataframe tbody tr th {\n",
       "        vertical-align: top;\n",
       "    }\n",
       "\n",
       "    .dataframe thead th {\n",
       "        text-align: right;\n",
       "    }\n",
       "</style>\n",
       "<table border=\"1\" class=\"dataframe\">\n",
       "  <thead>\n",
       "    <tr style=\"text-align: right;\">\n",
       "      <th></th>\n",
       "      <th>0</th>\n",
       "      <th>0.05</th>\n",
       "      <th>0.1</th>\n",
       "      <th>0.15</th>\n",
       "      <th>0.2</th>\n",
       "      <th>0.25</th>\n",
       "    </tr>\n",
       "    <tr>\n",
       "      <th>pm</th>\n",
       "      <th></th>\n",
       "      <th></th>\n",
       "      <th></th>\n",
       "      <th></th>\n",
       "      <th></th>\n",
       "      <th></th>\n",
       "    </tr>\n",
       "  </thead>\n",
       "  <tbody>\n",
       "    <tr>\n",
       "      <td>0.30</td>\n",
       "      <td>0.0</td>\n",
       "      <td>20.0</td>\n",
       "      <td>50.0</td>\n",
       "      <td>100.0</td>\n",
       "      <td>200.0</td>\n",
       "      <td>500.0</td>\n",
       "    </tr>\n",
       "    <tr>\n",
       "      <td>0.32</td>\n",
       "      <td>0.0</td>\n",
       "      <td>19.0</td>\n",
       "      <td>45.0</td>\n",
       "      <td>88.0</td>\n",
       "      <td>167.0</td>\n",
       "      <td>357.0</td>\n",
       "    </tr>\n",
       "    <tr>\n",
       "      <td>0.34</td>\n",
       "      <td>0.0</td>\n",
       "      <td>17.0</td>\n",
       "      <td>42.0</td>\n",
       "      <td>79.0</td>\n",
       "      <td>143.0</td>\n",
       "      <td>278.0</td>\n",
       "    </tr>\n",
       "    <tr>\n",
       "      <td>0.36</td>\n",
       "      <td>0.0</td>\n",
       "      <td>16.0</td>\n",
       "      <td>38.0</td>\n",
       "      <td>71.0</td>\n",
       "      <td>125.0</td>\n",
       "      <td>227.0</td>\n",
       "    </tr>\n",
       "    <tr>\n",
       "      <td>0.38</td>\n",
       "      <td>0.0</td>\n",
       "      <td>15.0</td>\n",
       "      <td>36.0</td>\n",
       "      <td>65.0</td>\n",
       "      <td>111.0</td>\n",
       "      <td>192.0</td>\n",
       "    </tr>\n",
       "    <tr>\n",
       "      <td>0.40</td>\n",
       "      <td>0.0</td>\n",
       "      <td>14.0</td>\n",
       "      <td>33.0</td>\n",
       "      <td>60.0</td>\n",
       "      <td>100.0</td>\n",
       "      <td>167.0</td>\n",
       "    </tr>\n",
       "    <tr>\n",
       "      <td>0.42</td>\n",
       "      <td>0.0</td>\n",
       "      <td>14.0</td>\n",
       "      <td>31.0</td>\n",
       "      <td>56.0</td>\n",
       "      <td>91.0</td>\n",
       "      <td>147.0</td>\n",
       "    </tr>\n",
       "    <tr>\n",
       "      <td>0.44</td>\n",
       "      <td>0.0</td>\n",
       "      <td>13.0</td>\n",
       "      <td>29.0</td>\n",
       "      <td>52.0</td>\n",
       "      <td>83.0</td>\n",
       "      <td>132.0</td>\n",
       "    </tr>\n",
       "    <tr>\n",
       "      <td>0.46</td>\n",
       "      <td>0.0</td>\n",
       "      <td>12.0</td>\n",
       "      <td>28.0</td>\n",
       "      <td>48.0</td>\n",
       "      <td>77.0</td>\n",
       "      <td>119.0</td>\n",
       "    </tr>\n",
       "    <tr>\n",
       "      <td>0.48</td>\n",
       "      <td>0.0</td>\n",
       "      <td>12.0</td>\n",
       "      <td>26.0</td>\n",
       "      <td>45.0</td>\n",
       "      <td>71.0</td>\n",
       "      <td>109.0</td>\n",
       "    </tr>\n",
       "    <tr>\n",
       "      <td>0.50</td>\n",
       "      <td>0.0</td>\n",
       "      <td>11.0</td>\n",
       "      <td>25.0</td>\n",
       "      <td>43.0</td>\n",
       "      <td>67.0</td>\n",
       "      <td>100.0</td>\n",
       "    </tr>\n",
       "  </tbody>\n",
       "</table>\n",
       "</div>"
      ],
      "text/plain": [
       "        0  0.05   0.1   0.15    0.2   0.25\n",
       "pm                                        \n",
       "0.30  0.0  20.0  50.0  100.0  200.0  500.0\n",
       "0.32  0.0  19.0  45.0   88.0  167.0  357.0\n",
       "0.34  0.0  17.0  42.0   79.0  143.0  278.0\n",
       "0.36  0.0  16.0  38.0   71.0  125.0  227.0\n",
       "0.38  0.0  15.0  36.0   65.0  111.0  192.0\n",
       "0.40  0.0  14.0  33.0   60.0  100.0  167.0\n",
       "0.42  0.0  14.0  31.0   56.0   91.0  147.0\n",
       "0.44  0.0  13.0  29.0   52.0   83.0  132.0\n",
       "0.46  0.0  12.0  28.0   48.0   77.0  119.0\n",
       "0.48  0.0  12.0  26.0   45.0   71.0  109.0\n",
       "0.50  0.0  11.0  25.0   43.0   67.0  100.0"
      ]
     },
     "execution_count": 17,
     "metadata": {},
     "output_type": "execute_result"
    }
   ],
   "source": [
    "def quant_in(pm, disc):\n",
    "    x = pm - disc\n",
    "    pm2 = disc / x\n",
    "    return round(pm2,2)*100\n",
    "\n",
    "\n",
    "pm = list(range(30,51,2))\n",
    "pm = [i/100 for i in pm]\n",
    "disc = [0, 0.05, 0.1, 0.15, 0.2, 0.25]\n",
    "a = {}\n",
    "for i in disc:\n",
    "    b = []\n",
    "    for j in pm:\n",
    "        b.append(quant_in(j, i))\n",
    "    a[str(i)] = b\n",
    "import pandas as pd\n",
    "data = pd.DataFrame.from_dict(a)\n",
    "data['pm'] = pm\n",
    "data = data.set_index(['pm'])\n",
    "\n",
    "data"
   ]
  },
  {
   "cell_type": "markdown",
   "metadata": {},
   "source": [
    "## Is there a difference in mean time to ship?"
   ]
  },
  {
   "cell_type": "code",
   "execution_count": 18,
   "metadata": {},
   "outputs": [
    {
     "data": {
      "text/html": [
       "<div>\n",
       "<style scoped>\n",
       "    .dataframe tbody tr th:only-of-type {\n",
       "        vertical-align: middle;\n",
       "    }\n",
       "\n",
       "    .dataframe tbody tr th {\n",
       "        vertical-align: top;\n",
       "    }\n",
       "\n",
       "    .dataframe thead th {\n",
       "        text-align: right;\n",
       "    }\n",
       "</style>\n",
       "<table border=\"1\" class=\"dataframe\">\n",
       "  <thead>\n",
       "    <tr style=\"text-align: right;\">\n",
       "      <th></th>\n",
       "      <th>Id</th>\n",
       "      <th>CompanyName</th>\n",
       "      <th>OrderDate</th>\n",
       "      <th>RequiredDate</th>\n",
       "      <th>ShippedDate</th>\n",
       "    </tr>\n",
       "  </thead>\n",
       "  <tbody>\n",
       "    <tr>\n",
       "      <td>0</td>\n",
       "      <td>10248</td>\n",
       "      <td>Federal Shipping</td>\n",
       "      <td>2012-07-04</td>\n",
       "      <td>2012-08-01</td>\n",
       "      <td>2012-07-16</td>\n",
       "    </tr>\n",
       "    <tr>\n",
       "      <td>1</td>\n",
       "      <td>10249</td>\n",
       "      <td>Speedy Express</td>\n",
       "      <td>2012-07-05</td>\n",
       "      <td>2012-08-16</td>\n",
       "      <td>2012-07-10</td>\n",
       "    </tr>\n",
       "    <tr>\n",
       "      <td>2</td>\n",
       "      <td>10250</td>\n",
       "      <td>United Package</td>\n",
       "      <td>2012-07-08</td>\n",
       "      <td>2012-08-05</td>\n",
       "      <td>2012-07-12</td>\n",
       "    </tr>\n",
       "    <tr>\n",
       "      <td>3</td>\n",
       "      <td>10251</td>\n",
       "      <td>Speedy Express</td>\n",
       "      <td>2012-07-08</td>\n",
       "      <td>2012-08-05</td>\n",
       "      <td>2012-07-15</td>\n",
       "    </tr>\n",
       "    <tr>\n",
       "      <td>4</td>\n",
       "      <td>10252</td>\n",
       "      <td>United Package</td>\n",
       "      <td>2012-07-09</td>\n",
       "      <td>2012-08-06</td>\n",
       "      <td>2012-07-11</td>\n",
       "    </tr>\n",
       "    <tr>\n",
       "      <td>...</td>\n",
       "      <td>...</td>\n",
       "      <td>...</td>\n",
       "      <td>...</td>\n",
       "      <td>...</td>\n",
       "      <td>...</td>\n",
       "    </tr>\n",
       "    <tr>\n",
       "      <td>825</td>\n",
       "      <td>11073</td>\n",
       "      <td>United Package</td>\n",
       "      <td>2014-05-05</td>\n",
       "      <td>2014-06-02</td>\n",
       "      <td>None</td>\n",
       "    </tr>\n",
       "    <tr>\n",
       "      <td>826</td>\n",
       "      <td>11074</td>\n",
       "      <td>United Package</td>\n",
       "      <td>2014-05-06</td>\n",
       "      <td>2014-06-03</td>\n",
       "      <td>None</td>\n",
       "    </tr>\n",
       "    <tr>\n",
       "      <td>827</td>\n",
       "      <td>11075</td>\n",
       "      <td>United Package</td>\n",
       "      <td>2014-05-06</td>\n",
       "      <td>2014-06-03</td>\n",
       "      <td>None</td>\n",
       "    </tr>\n",
       "    <tr>\n",
       "      <td>828</td>\n",
       "      <td>11076</td>\n",
       "      <td>United Package</td>\n",
       "      <td>2014-05-06</td>\n",
       "      <td>2014-06-03</td>\n",
       "      <td>None</td>\n",
       "    </tr>\n",
       "    <tr>\n",
       "      <td>829</td>\n",
       "      <td>11077</td>\n",
       "      <td>United Package</td>\n",
       "      <td>2014-05-06</td>\n",
       "      <td>2014-06-03</td>\n",
       "      <td>None</td>\n",
       "    </tr>\n",
       "  </tbody>\n",
       "</table>\n",
       "<p>830 rows × 5 columns</p>\n",
       "</div>"
      ],
      "text/plain": [
       "        Id       CompanyName   OrderDate RequiredDate ShippedDate\n",
       "0    10248  Federal Shipping  2012-07-04   2012-08-01  2012-07-16\n",
       "1    10249    Speedy Express  2012-07-05   2012-08-16  2012-07-10\n",
       "2    10250    United Package  2012-07-08   2012-08-05  2012-07-12\n",
       "3    10251    Speedy Express  2012-07-08   2012-08-05  2012-07-15\n",
       "4    10252    United Package  2012-07-09   2012-08-06  2012-07-11\n",
       "..     ...               ...         ...          ...         ...\n",
       "825  11073    United Package  2014-05-05   2014-06-02        None\n",
       "826  11074    United Package  2014-05-06   2014-06-03        None\n",
       "827  11075    United Package  2014-05-06   2014-06-03        None\n",
       "828  11076    United Package  2014-05-06   2014-06-03        None\n",
       "829  11077    United Package  2014-05-06   2014-06-03        None\n",
       "\n",
       "[830 rows x 5 columns]"
      ]
     },
     "execution_count": 18,
     "metadata": {},
     "output_type": "execute_result"
    }
   ],
   "source": [
    "#Wrute a query to select order and ship dates and keep information about the shipper\n",
    "tts_query = pd.read_sql('''SELECT a.Id, b.CompanyName, a.OrderDate, a.RequiredDate, a.ShippedDate \n",
    "                           FROM \"Order\" a\n",
    "                           JOIN Shipper b ON a.ShipVia = b.ID''', conn)\n",
    "\n",
    "df2 = pd.DataFrame(tts_query)\n",
    "df2"
   ]
  },
  {
   "cell_type": "code",
   "execution_count": 19,
   "metadata": {},
   "outputs": [
    {
     "data": {
      "text/html": [
       "<div>\n",
       "<style scoped>\n",
       "    .dataframe tbody tr th:only-of-type {\n",
       "        vertical-align: middle;\n",
       "    }\n",
       "\n",
       "    .dataframe tbody tr th {\n",
       "        vertical-align: top;\n",
       "    }\n",
       "\n",
       "    .dataframe thead th {\n",
       "        text-align: right;\n",
       "    }\n",
       "</style>\n",
       "<table border=\"1\" class=\"dataframe\">\n",
       "  <thead>\n",
       "    <tr style=\"text-align: right;\">\n",
       "      <th></th>\n",
       "      <th>Id</th>\n",
       "      <th>CompanyName</th>\n",
       "      <th>OrderDate</th>\n",
       "      <th>RequiredDate</th>\n",
       "      <th>ShippedDate</th>\n",
       "      <th>tts</th>\n",
       "    </tr>\n",
       "  </thead>\n",
       "  <tbody>\n",
       "    <tr>\n",
       "      <td>0</td>\n",
       "      <td>10248</td>\n",
       "      <td>Federal Shipping</td>\n",
       "      <td>2012-07-04</td>\n",
       "      <td>2012-08-01</td>\n",
       "      <td>2012-07-16</td>\n",
       "      <td>12.0</td>\n",
       "    </tr>\n",
       "    <tr>\n",
       "      <td>1</td>\n",
       "      <td>10249</td>\n",
       "      <td>Speedy Express</td>\n",
       "      <td>2012-07-05</td>\n",
       "      <td>2012-08-16</td>\n",
       "      <td>2012-07-10</td>\n",
       "      <td>5.0</td>\n",
       "    </tr>\n",
       "  </tbody>\n",
       "</table>\n",
       "</div>"
      ],
      "text/plain": [
       "      Id       CompanyName  OrderDate RequiredDate ShippedDate   tts\n",
       "0  10248  Federal Shipping 2012-07-04   2012-08-01  2012-07-16  12.0\n",
       "1  10249    Speedy Express 2012-07-05   2012-08-16  2012-07-10   5.0"
      ]
     },
     "execution_count": 19,
     "metadata": {},
     "output_type": "execute_result"
    }
   ],
   "source": [
    "#Convert date fields to datetime\n",
    "df2['ShippedDate'] = pd.to_datetime(df2['ShippedDate'])\n",
    "df2['OrderDate'] = pd.to_datetime(df2['OrderDate'])\n",
    "\n",
    "#make a time to ship (tts) column that is the difference in days between\n",
    "#order and ship dates\n",
    "df2['tts'] = df2['ShippedDate'] - df2['OrderDate']\n",
    "df2['tts'] = df2['tts'].dt.days\n",
    "\n",
    "#drop the columns where the order hasn't shipped yet (so no tts)\n",
    "df2 = df2[~df2.tts.isna()]\n",
    "\n",
    "#Preview tts\n",
    "df2.head(2)"
   ]
  },
  {
   "cell_type": "code",
   "execution_count": 20,
   "metadata": {},
   "outputs": [
    {
     "name": "stdout",
     "output_type": "stream",
     "text": [
      "1.0 35.0\n",
      "1.0 37.0\n",
      "1.0 37.0\n"
     ]
    }
   ],
   "source": [
    "#wanted to check if any of the companies had significantly lower max or higher\n",
    "#min than the other companies. Could have also ploted this in a graph for easy viz\n",
    "for i in set(df2.CompanyName):\n",
    "    x = df2[df2['CompanyName'] == i]\n",
    "    print(min(x.tts), max(x.tts))"
   ]
  },
  {
   "cell_type": "code",
   "execution_count": 21,
   "metadata": {},
   "outputs": [
    {
     "data": {
      "text/plain": [
       "United Package      315\n",
       "Federal Shipping    249\n",
       "Speedy Express      245\n",
       "Name: CompanyName, dtype: int64"
      ]
     },
     "execution_count": 21,
     "metadata": {},
     "output_type": "execute_result"
    }
   ],
   "source": [
    "#Checking that there were sufficient orders across all three shippers\n",
    "df2.CompanyName.value_counts()"
   ]
  },
  {
   "cell_type": "code",
   "execution_count": 22,
   "metadata": {},
   "outputs": [
    {
     "name": "stdout",
     "output_type": "stream",
     "text": [
      "                      sum_sq     df         F    PR(>F)\n",
      "C(CompanyName)    433.501581    2.0  4.676819  0.009563\n",
      "Residual        37354.696194  806.0       NaN       NaN\n"
     ]
    }
   ],
   "source": [
    "#Run a one-way ANOVA test on whether company has statistically significant different tts\n",
    "formula = 'tts ~ C(CompanyName)'\n",
    "lm = ols(formula, df2).fit()\n",
    "table = sm.stats.anova_lm(lm, typ=2)\n",
    "print(table)"
   ]
  },
  {
   "cell_type": "markdown",
   "metadata": {},
   "source": [
    "The adjusted p-value is 0.05/3 ~= 0.0167. The p-value of ANOVA is 0.009, which gives us evidence to reject the null that all shippers have the same time to ship. We continue with analysis."
   ]
  },
  {
   "cell_type": "code",
   "execution_count": 23,
   "metadata": {},
   "outputs": [
    {
     "data": {
      "image/png": "[encoded data removed]",
      "text/plain": [
       "<Figure size 864x288 with 3 Axes>"
      ]
     },
     "metadata": {
      "needs_background": "light"
     },
     "output_type": "display_data"
    }
   ],
   "source": [
    "#write a subplot to visualize distribution of tts.\n",
    "fig, axs = plt.subplots(1,3, figsize = (12,4), sharey=True)\n",
    "for i in range(0,3):\n",
    "    x = df2[df2.CompanyName == list(set(df2.CompanyName))[i]]['tts']\n",
    "    axs[i].hist(x, bins='auto')\n",
    "    axs[i].set_title(list(set(df2.CompanyName))[i]);"
   ]
  },
  {
   "cell_type": "markdown",
   "metadata": {},
   "source": [
    "It appears all shippers have most orders shipped by day 10. Speedy spikes at ~6 days, so that could point to their target completion date. All have orders that took longer than 10 days, but United Package seems to have the most."
   ]
  },
  {
   "cell_type": "code",
   "execution_count": 24,
   "metadata": {},
   "outputs": [
    {
     "data": {
      "image/png": "[encoded data removed]",
      "text/plain": [
       "<Figure size 432x288 with 1 Axes>"
      ]
     },
     "metadata": {
      "needs_background": "light"
     },
     "output_type": "display_data"
    }
   ],
   "source": [
    "#Plot a distribution plot of tts\n",
    "S1 = get_sample_mean(df2[df2.CompanyName == 'Speedy Express']['tts'])\n",
    "S2 = get_sample_mean(df2[df2.CompanyName == 'Federal Shipping']['tts'])\n",
    "S3 = get_sample_mean(df2[df2.CompanyName == 'United Package']['tts'])\n",
    "\n",
    "sns.distplot(S1, color='orange')\n",
    "sns.distplot(S2, color='green')\n",
    "sns.distplot(S3, color='blue')\n",
    "plt.xlabel('Mean TTS in Days')\n",
    "plt.legend(['Speedy', 'Federal', 'United']);"
   ]
  },
  {
   "cell_type": "code",
   "execution_count": 25,
   "metadata": {},
   "outputs": [
    {
     "data": {
      "text/html": [
       "<div>\n",
       "<style scoped>\n",
       "    .dataframe tbody tr th:only-of-type {\n",
       "        vertical-align: middle;\n",
       "    }\n",
       "\n",
       "    .dataframe tbody tr th {\n",
       "        vertical-align: top;\n",
       "    }\n",
       "\n",
       "    .dataframe thead th {\n",
       "        text-align: right;\n",
       "    }\n",
       "</style>\n",
       "<table border=\"1\" class=\"dataframe\">\n",
       "  <thead>\n",
       "    <tr style=\"text-align: right;\">\n",
       "      <th></th>\n",
       "      <th>Id</th>\n",
       "      <th>CompanyName</th>\n",
       "      <th>OrderDate</th>\n",
       "      <th>RequiredDate</th>\n",
       "      <th>ShippedDate</th>\n",
       "      <th>tts</th>\n",
       "      <th>weekday</th>\n",
       "    </tr>\n",
       "  </thead>\n",
       "  <tbody>\n",
       "    <tr>\n",
       "      <td>0</td>\n",
       "      <td>10248</td>\n",
       "      <td>Federal Shipping</td>\n",
       "      <td>2012-07-04</td>\n",
       "      <td>2012-08-01</td>\n",
       "      <td>2012-07-16</td>\n",
       "      <td>12.0</td>\n",
       "      <td>2</td>\n",
       "    </tr>\n",
       "    <tr>\n",
       "      <td>1</td>\n",
       "      <td>10249</td>\n",
       "      <td>Speedy Express</td>\n",
       "      <td>2012-07-05</td>\n",
       "      <td>2012-08-16</td>\n",
       "      <td>2012-07-10</td>\n",
       "      <td>5.0</td>\n",
       "      <td>3</td>\n",
       "    </tr>\n",
       "    <tr>\n",
       "      <td>2</td>\n",
       "      <td>10250</td>\n",
       "      <td>United Package</td>\n",
       "      <td>2012-07-08</td>\n",
       "      <td>2012-08-05</td>\n",
       "      <td>2012-07-12</td>\n",
       "      <td>4.0</td>\n",
       "      <td>6</td>\n",
       "    </tr>\n",
       "    <tr>\n",
       "      <td>3</td>\n",
       "      <td>10251</td>\n",
       "      <td>Speedy Express</td>\n",
       "      <td>2012-07-08</td>\n",
       "      <td>2012-08-05</td>\n",
       "      <td>2012-07-15</td>\n",
       "      <td>7.0</td>\n",
       "      <td>6</td>\n",
       "    </tr>\n",
       "    <tr>\n",
       "      <td>4</td>\n",
       "      <td>10252</td>\n",
       "      <td>United Package</td>\n",
       "      <td>2012-07-09</td>\n",
       "      <td>2012-08-06</td>\n",
       "      <td>2012-07-11</td>\n",
       "      <td>2.0</td>\n",
       "      <td>0</td>\n",
       "    </tr>\n",
       "  </tbody>\n",
       "</table>\n",
       "</div>"
      ],
      "text/plain": [
       "      Id       CompanyName  OrderDate RequiredDate ShippedDate   tts  weekday\n",
       "0  10248  Federal Shipping 2012-07-04   2012-08-01  2012-07-16  12.0        2\n",
       "1  10249    Speedy Express 2012-07-05   2012-08-16  2012-07-10   5.0        3\n",
       "2  10250    United Package 2012-07-08   2012-08-05  2012-07-12   4.0        6\n",
       "3  10251    Speedy Express 2012-07-08   2012-08-05  2012-07-15   7.0        6\n",
       "4  10252    United Package 2012-07-09   2012-08-06  2012-07-11   2.0        0"
      ]
     },
     "execution_count": 25,
     "metadata": {},
     "output_type": "execute_result"
    }
   ],
   "source": [
    "#generate a weekday column to see when orders are placed\n",
    "df2['weekday'] = [i.weekday() for i in df2['OrderDate']]\n",
    "df2.head()"
   ]
  },
  {
   "cell_type": "code",
   "execution_count": 26,
   "metadata": {},
   "outputs": [
    {
     "data": {
      "text/plain": [
       "<matplotlib.collections.PathCollection at 0x2037225a6d8>"
      ]
     },
     "execution_count": 26,
     "metadata": {},
     "output_type": "execute_result"
    },
    {
     "data": {
      "image/png": "[encoded data removed]",
      "text/plain": [
       "<Figure size 432x288 with 1 Axes>"
      ]
     },
     "metadata": {
      "needs_background": "light"
     },
     "output_type": "display_data"
    }
   ],
   "source": [
    "#inspecting the weekday of an order vs tts\n",
    "plt.scatter(df2.weekday, df2.tts)"
   ]
  },
  {
   "cell_type": "code",
   "execution_count": 27,
   "metadata": {},
   "outputs": [
    {
     "data": {
      "text/plain": [
       "{0, 1, 2, 3, 6}"
      ]
     },
     "execution_count": 27,
     "metadata": {},
     "output_type": "execute_result"
    }
   ],
   "source": [
    "#Monday is 0, Sunday is 6 - there seem to not be any orders on Friday and Saturday\n",
    "#So maybe the business is closed on F & S\n",
    "set(df2.weekday) "
   ]
  },
  {
   "cell_type": "code",
   "execution_count": 28,
   "metadata": {},
   "outputs": [
    {
     "name": "stdout",
     "output_type": "stream",
     "text": [
      "                  sum_sq     df         F    PR(>F)\n",
      "C(weekday)     12.513563    4.0  0.066583  0.991866\n",
      "Residual    37775.684212  804.0       NaN       NaN\n"
     ]
    }
   ],
   "source": [
    "#Run a one-way ANOVA test on whether weekday the order was placed \n",
    "#has statistically significant different tts\n",
    "formula = 'tts ~ C(weekday)'\n",
    "lm = ols(formula, df2).fit()\n",
    "table = sm.stats.anova_lm(lm, typ=2)\n",
    "print(table)"
   ]
  },
  {
   "cell_type": "markdown",
   "metadata": {},
   "source": [
    "There is no statistically significant difference in the tts depending on the weekday the order was placed."
   ]
  },
  {
   "cell_type": "markdown",
   "metadata": {},
   "source": [
    "## Is there a difference in products that are ordered by region?"
   ]
  },
  {
   "cell_type": "code",
   "execution_count": 29,
   "metadata": {},
   "outputs": [
    {
     "data": {
      "text/html": [
       "<div>\n",
       "<style scoped>\n",
       "    .dataframe tbody tr th:only-of-type {\n",
       "        vertical-align: middle;\n",
       "    }\n",
       "\n",
       "    .dataframe tbody tr th {\n",
       "        vertical-align: top;\n",
       "    }\n",
       "\n",
       "    .dataframe thead th {\n",
       "        text-align: right;\n",
       "    }\n",
       "</style>\n",
       "<table border=\"1\" class=\"dataframe\">\n",
       "  <thead>\n",
       "    <tr style=\"text-align: right;\">\n",
       "      <th></th>\n",
       "      <th>ProductName</th>\n",
       "      <th>CategoryName</th>\n",
       "      <th>CompanyName</th>\n",
       "      <th>Region</th>\n",
       "      <th>Country</th>\n",
       "      <th>OrderId</th>\n",
       "    </tr>\n",
       "  </thead>\n",
       "  <tbody>\n",
       "    <tr>\n",
       "      <td>0</td>\n",
       "      <td>Queso Cabrales</td>\n",
       "      <td>Dairy Products</td>\n",
       "      <td>Vins et alcools Chevalier</td>\n",
       "      <td>Western Europe</td>\n",
       "      <td>France</td>\n",
       "      <td>10248</td>\n",
       "    </tr>\n",
       "    <tr>\n",
       "      <td>1</td>\n",
       "      <td>Singaporean Hokkien Fried Mee</td>\n",
       "      <td>Grains/Cereals</td>\n",
       "      <td>Vins et alcools Chevalier</td>\n",
       "      <td>Western Europe</td>\n",
       "      <td>France</td>\n",
       "      <td>10248</td>\n",
       "    </tr>\n",
       "    <tr>\n",
       "      <td>2</td>\n",
       "      <td>Mozzarella di Giovanni</td>\n",
       "      <td>Dairy Products</td>\n",
       "      <td>Vins et alcools Chevalier</td>\n",
       "      <td>Western Europe</td>\n",
       "      <td>France</td>\n",
       "      <td>10248</td>\n",
       "    </tr>\n",
       "    <tr>\n",
       "      <td>3</td>\n",
       "      <td>Tofu</td>\n",
       "      <td>Produce</td>\n",
       "      <td>Toms Spezialitäten</td>\n",
       "      <td>Western Europe</td>\n",
       "      <td>Germany</td>\n",
       "      <td>10249</td>\n",
       "    </tr>\n",
       "    <tr>\n",
       "      <td>4</td>\n",
       "      <td>Manjimup Dried Apples</td>\n",
       "      <td>Produce</td>\n",
       "      <td>Toms Spezialitäten</td>\n",
       "      <td>Western Europe</td>\n",
       "      <td>Germany</td>\n",
       "      <td>10249</td>\n",
       "    </tr>\n",
       "  </tbody>\n",
       "</table>\n",
       "</div>"
      ],
      "text/plain": [
       "                     ProductName    CategoryName                CompanyName  \\\n",
       "0                 Queso Cabrales  Dairy Products  Vins et alcools Chevalier   \n",
       "1  Singaporean Hokkien Fried Mee  Grains/Cereals  Vins et alcools Chevalier   \n",
       "2         Mozzarella di Giovanni  Dairy Products  Vins et alcools Chevalier   \n",
       "3                           Tofu         Produce         Toms Spezialitäten   \n",
       "4          Manjimup Dried Apples         Produce         Toms Spezialitäten   \n",
       "\n",
       "           Region  Country  OrderId  \n",
       "0  Western Europe   France    10248  \n",
       "1  Western Europe   France    10248  \n",
       "2  Western Europe   France    10248  \n",
       "3  Western Europe  Germany    10249  \n",
       "4  Western Europe  Germany    10249  "
      ]
     },
     "execution_count": 29,
     "metadata": {},
     "output_type": "execute_result"
    }
   ],
   "source": [
    "#New table for products by region\n",
    "conn = sqlite3.Connection('Northwind_small.sqlite')\n",
    "\n",
    "tq = pd.read_sql('''SELECT a.ProductName, e.CategoryName, b.CompanyName, b.Region, b.Country, c.OrderId\n",
    "                    FROM OrderDetail c\n",
    "                    LEFT JOIN Product a ON a.Id = c.ProductId\n",
    "                    LEFT JOIN Category e ON a.CategoryId = e.Id\n",
    "                    LEFT JOIN \"Order\" d ON c.OrderId = d.Id\n",
    "                    LEFT JOIN Customer b ON d.CustomerId = b.Id''', conn)\n",
    "\n",
    "df3 = pd.DataFrame(tq)\n",
    "df3.head()"
   ]
  },
  {
   "cell_type": "code",
   "execution_count": 30,
   "metadata": {},
   "outputs": [
    {
     "data": {
      "text/plain": [
       "<matplotlib.axes._subplots.AxesSubplot at 0x2036b678c88>"
      ]
     },
     "execution_count": 30,
     "metadata": {},
     "output_type": "execute_result"
    },
    {
     "data": {
      "image/png": "[encoded data removed]",
      "text/plain": [
       "<Figure size 864x720 with 1 Axes>"
      ]
     },
     "metadata": {
      "needs_background": "light"
     },
     "output_type": "display_data"
    }
   ],
   "source": [
    "#want to explore the sum of orders that contained product categories by Region\n",
    "plt.figure(figsize=(12,10))\n",
    "sns.countplot(y='Region', hue='CategoryName', data=df3)"
   ]
  },
  {
   "cell_type": "markdown",
   "metadata": {},
   "source": [
    "What is great about the above plot is that in a few short lines of code, we're able to compare a number of things across regions. \n",
    "- Western Europe clearly has the highest number items in an order sold, followed by North America.\n",
    "- Dairy and Beverages seem to be the most popular product categories and seem to have similar volume in orders.\n",
    "- We can quickly see a few outliers like low Grain sales in Central America, higher confections in North America, higher seafood in South America.\n",
    "\n",
    "These all introduce possibility for further analysis."
   ]
  },
  {
   "cell_type": "code",
   "execution_count": 31,
   "metadata": {},
   "outputs": [
    {
     "data": {
      "text/plain": [
       "<matplotlib.axes._subplots.AxesSubplot at 0x2037270b908>"
      ]
     },
     "execution_count": 31,
     "metadata": {},
     "output_type": "execute_result"
    },
    {
     "data": {
      "image/png": "[encoded data removed]",
      "text/plain": [
       "<Figure size 864x720 with 1 Axes>"
      ]
     },
     "metadata": {
      "needs_background": "light"
     },
     "output_type": "display_data"
    }
   ],
   "source": [
    "#digging into Western Europe\n",
    "y = df3[df3['Region'] == 'Western Europe']\n",
    "plt.figure(figsize=(12,10))\n",
    "sns.countplot(y='Country', hue='CategoryName', data=y)"
   ]
  },
  {
   "cell_type": "code",
   "execution_count": null,
   "metadata": {},
   "outputs": [],
   "source": [
    " "
   ]
  }
 ],
 "metadata": {
  "kernelspec": {
   "display_name": "Python [conda env:learn-env] *",
   "language": "python",
   "name": "conda-env-learn-env-py"
  },
  "language_info": {
   "codemirror_mode": {
    "name": "ipython",
    "version": 3
   },
   "file_extension": ".py",
   "mimetype": "text/x-python",
   "name": "python",
   "nbconvert_exporter": "python",
   "pygments_lexer": "ipython3",
   "version": "3.6.6"
  },
  "toc": {
   "base_numbering": 1,
   "nav_menu": {},
   "number_sections": true,
   "sideBar": true,
   "skip_h1_title": false,
   "title_cell": "Table of Contents",
   "title_sidebar": "Contents",
   "toc_cell": false,
   "toc_position": {},
   "toc_section_display": true,
   "toc_window_display": false
  },
  "varInspector": {
   "cols": {
    "lenName": 16,
    "lenType": 16,
    "lenVar": 40
   },
   "kernels_config": {
    "python": {
     "delete_cmd_postfix": "",
     "delete_cmd_prefix": "del ",
     "library": "var_list.py",
     "varRefreshCmd": "print(var_dic_list())"
    },
    "r": {
     "delete_cmd_postfix": ") ",
     "delete_cmd_prefix": "rm(",
     "library": "var_list.r",
     "varRefreshCmd": "cat(var_dic_list()) "
    }
   },
   "types_to_exclude": [
    "module",
    "function",
    "builtin_function_or_method",
    "instance",
    "_Feature"
   ],
   "window_display": false
  }
 },
 "nbformat": 4,
 "nbformat_minor": 2
}
